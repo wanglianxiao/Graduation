{
 "cells": [
  {
   "cell_type": "code",
   "execution_count": 1,
   "metadata": {
    "collapsed": false
   },
   "outputs": [
    {
     "name": "stderr",
     "output_type": "stream",
     "text": [
      "Using TensorFlow backend.\n"
     ]
    },
    {
     "data": {
      "image/png": "[encoded data removed]",
      "text/plain": [
       "<matplotlib.figure.Figure at 0x102d75a90>"
      ]
     },
     "metadata": {},
     "output_type": "display_data"
    }
   ],
   "source": [
    "import numpy\n",
    "import math\n",
    "from keras.models import Sequential\n",
    "from keras.layers import Dense\n",
    "from keras.layers import LSTM\n",
    "from sklearn.preprocessing import MinMaxScaler\n",
    "from sklearn.metrics import mean_squared_error\n",
    "import pandas\n",
    "import matplotlib.pyplot as plt\n",
    "dataset = pandas.read_csv('bitcoin_single_addr.csv', usecols=[2], engine='python')\n",
    "plt.plot(dataset)\n",
    "plt.show()"
   ]
  },
  {
   "cell_type": "code",
   "execution_count": 2,
   "metadata": {
    "collapsed": false
   },
   "outputs": [
    {
     "name": "stdout",
     "output_type": "stream",
     "text": [
      "5682 2799\n",
      "5678\n",
      "2795\n",
      "Epoch 1/100\n",
      "62s - loss: 0.0071\n",
      "Epoch 2/100\n",
      "60s - loss: 0.0025\n",
      "Epoch 3/100\n",
      "62s - loss: 0.0024\n",
      "Epoch 4/100\n",
      "60s - loss: 0.0023\n",
      "Epoch 5/100\n",
      "64s - loss: 0.0023\n",
      "Epoch 6/100\n",
      "62s - loss: 0.0023\n",
      "Epoch 7/100\n",
      "64s - loss: 0.0023\n",
      "Epoch 8/100\n",
      "65s - loss: 0.0023\n",
      "Epoch 9/100\n",
      "65s - loss: 0.0023\n",
      "Epoch 10/100\n",
      "66s - loss: 0.0023\n",
      "Epoch 11/100\n",
      "64s - loss: 0.0023\n",
      "Epoch 12/100\n",
      "71s - loss: 0.0023\n",
      "Epoch 13/100\n",
      "67s - loss: 0.0023\n",
      "Epoch 14/100\n",
      "64s - loss: 0.0023\n",
      "Epoch 15/100\n",
      "66s - loss: 0.0023\n",
      "Epoch 16/100\n",
      "68s - loss: 0.0023\n",
      "Epoch 17/100\n",
      "68s - loss: 0.0023\n",
      "Epoch 18/100\n",
      "65s - loss: 0.0022\n",
      "Epoch 19/100\n",
      "66s - loss: 0.0022\n",
      "Epoch 20/100\n",
      "59s - loss: 0.0022\n",
      "Epoch 21/100\n",
      "63s - loss: 0.0023\n",
      "Epoch 22/100\n",
      "65s - loss: 0.0022\n",
      "Epoch 23/100\n",
      "69s - loss: 0.0023\n",
      "Epoch 24/100\n",
      "71s - loss: 0.0023\n",
      "Epoch 25/100\n",
      "69s - loss: 0.0022\n",
      "Epoch 26/100\n",
      "66s - loss: 0.0022\n",
      "Epoch 27/100\n",
      "67s - loss: 0.0022\n",
      "Epoch 28/100\n",
      "66s - loss: 0.0022\n",
      "Epoch 29/100\n",
      "67s - loss: 0.0022\n",
      "Epoch 30/100\n",
      "65s - loss: 0.0022\n",
      "Epoch 31/100\n",
      "64s - loss: 0.0022\n",
      "Epoch 32/100\n",
      "63s - loss: 0.0022\n",
      "Epoch 33/100\n",
      "65s - loss: 0.0022\n",
      "Epoch 34/100\n",
      "60s - loss: 0.0022\n",
      "Epoch 35/100\n",
      "58s - loss: 0.0022\n",
      "Epoch 36/100\n",
      "59s - loss: 0.0022\n",
      "Epoch 37/100\n",
      "58s - loss: 0.0022\n",
      "Epoch 38/100\n",
      "60s - loss: 0.0022\n",
      "Epoch 39/100\n",
      "60s - loss: 0.0022\n",
      "Epoch 40/100\n",
      "65s - loss: 0.0022\n",
      "Epoch 41/100\n",
      "67s - loss: 0.0022\n",
      "Epoch 42/100\n",
      "70s - loss: 0.0022\n",
      "Epoch 43/100\n",
      "73s - loss: 0.0022\n",
      "Epoch 44/100\n",
      "67s - loss: 0.0022\n",
      "Epoch 45/100\n",
      "65s - loss: 0.0022\n",
      "Epoch 46/100\n",
      "69s - loss: 0.0022\n",
      "Epoch 47/100\n",
      "71s - loss: 0.0022\n",
      "Epoch 48/100\n",
      "67s - loss: 0.0022\n",
      "Epoch 49/100\n",
      "65s - loss: 0.0022\n",
      "Epoch 50/100\n",
      "66s - loss: 0.0022\n",
      "Epoch 51/100\n",
      "66s - loss: 0.0022\n",
      "Epoch 52/100\n",
      "69s - loss: 0.0022\n",
      "Epoch 53/100\n",
      "72s - loss: 0.0022\n",
      "Epoch 54/100\n",
      "72s - loss: 0.0022\n",
      "Epoch 55/100\n",
      "70s - loss: 0.0022\n",
      "Epoch 56/100\n",
      "68s - loss: 0.0022\n",
      "Epoch 57/100\n",
      "67s - loss: 0.0022\n",
      "Epoch 58/100\n",
      "67s - loss: 0.0022\n",
      "Epoch 59/100\n",
      "70s - loss: 0.0022\n",
      "Epoch 60/100\n",
      "75s - loss: 0.0022\n",
      "Epoch 61/100\n",
      "66s - loss: 0.0022\n",
      "Epoch 62/100\n",
      "67s - loss: 0.0022\n",
      "Epoch 63/100\n",
      "70s - loss: 0.0022\n",
      "Epoch 64/100\n",
      "66s - loss: 0.0022\n",
      "Epoch 65/100\n",
      "70s - loss: 0.0022\n",
      "Epoch 66/100\n",
      "77s - loss: 0.0022\n",
      "Epoch 67/100\n",
      "66s - loss: 0.0022\n",
      "Epoch 68/100\n",
      "68s - loss: 0.0022\n",
      "Epoch 69/100\n",
      "65s - loss: 0.0022\n",
      "Epoch 70/100\n",
      "64s - loss: 0.0022\n",
      "Epoch 71/100\n",
      "65s - loss: 0.0022\n",
      "Epoch 72/100\n",
      "64s - loss: 0.0022\n",
      "Epoch 73/100\n",
      "59s - loss: 0.0022\n",
      "Epoch 74/100\n",
      "59s - loss: 0.0022\n",
      "Epoch 75/100\n",
      "59s - loss: 0.0022\n",
      "Epoch 76/100\n",
      "59s - loss: 0.0022\n",
      "Epoch 77/100\n",
      "73s - loss: 0.0022\n",
      "Epoch 78/100\n",
      "74s - loss: 0.0022\n",
      "Epoch 79/100\n",
      "70s - loss: 0.0022\n",
      "Epoch 80/100\n",
      "67s - loss: 0.0022\n",
      "Epoch 81/100\n",
      "68s - loss: 0.0022\n",
      "Epoch 82/100\n",
      "66s - loss: 0.0022\n",
      "Epoch 83/100\n",
      "63s - loss: 0.0022\n",
      "Epoch 84/100\n",
      "62s - loss: 0.0022\n",
      "Epoch 85/100\n",
      "63s - loss: 0.0022\n",
      "Epoch 86/100\n",
      "66s - loss: 0.0022\n",
      "Epoch 87/100\n",
      "67s - loss: 0.0022\n",
      "Epoch 88/100\n",
      "68s - loss: 0.0022\n",
      "Epoch 89/100\n",
      "69s - loss: 0.0022\n",
      "Epoch 90/100\n",
      "72s - loss: 0.0022\n",
      "Epoch 91/100\n",
      "62s - loss: 0.0022\n",
      "Epoch 92/100\n",
      "66s - loss: 0.0022\n",
      "Epoch 93/100\n",
      "70s - loss: 0.0022\n",
      "Epoch 94/100\n",
      "63s - loss: 0.0022\n",
      "Epoch 95/100\n",
      "61s - loss: 0.0022\n",
      "Epoch 96/100\n",
      "58s - loss: 0.0022\n",
      "Epoch 97/100\n",
      "58s - loss: 0.0022\n",
      "Epoch 98/100\n",
      "75s - loss: 0.0022\n",
      "Epoch 99/100\n",
      "65s - loss: 0.0022\n",
      "Epoch 100/100\n",
      "73s - loss: 0.0022\n",
      "Train Score: 448279588.94 RMSE\n",
      "Test Score: 180173344.45 RMSE\n"
     ]
    },
    {
     "data": {
      "image/png": "[encoded data removed]",
      "text/plain": [
       "<matplotlib.figure.Figure at 0x10fe07ef0>"
      ]
     },
     "metadata": {},
     "output_type": "display_data"
    }
   ],
   "source": [
    "# fix random seed for reproducibility\n",
    "numpy.random.seed(7)\n",
    "# normalize the dataset making to between[0,1]\n",
    "scaler = MinMaxScaler(feature_range=(0, 1))\n",
    "dataset = scaler.fit_transform(dataset)\n",
    "# print(dataset)\n",
    "# split into train and test sets of 67% and 33%\n",
    "train_size = int(len(dataset) * 0.67)\n",
    "test_size = len(dataset) - train_size\n",
    "train, test = dataset[0:train_size,:], dataset[train_size:len(dataset),:]\n",
    "print(len(train), len(test))\n",
    "# convert an array of values into a dataset matrix\n",
    "def create_dataset(dataset, look_back=1):\n",
    "\tdataX, dataY = [], []\n",
    "\tfor i in range(len(dataset)-look_back-1):\n",
    "\t\ta = dataset[i:(i+look_back), 0]\n",
    "\t\tdataX.append(a)\n",
    "\t\tdataY.append(dataset[i + look_back, 0])\n",
    "\treturn numpy.array(dataX), numpy.array(dataY)\n",
    "look_back = 3\n",
    "trainX, trainY = create_dataset(train, look_back)\n",
    "testX, testY = create_dataset(test, look_back)\n",
    "print(len(trainX))\n",
    "print(len(testX))\n",
    "# reshape input to be [samples, time steps, features]\n",
    "trainX = numpy.reshape(trainX, (trainX.shape[0], 1, trainX.shape[1]))\n",
    "testX = numpy.reshape(testX, (testX.shape[0], 1, testX.shape[1]))\n",
    "# create and fit the LSTM network\n",
    "from keras.models import Sequential\n",
    "from keras.layers import Dense\n",
    "from keras.layers import LSTM\n",
    "model = Sequential()\n",
    "model.add(LSTM(4, input_dim=look_back))\n",
    "model.add(Dense(4))\n",
    "model.add(Dense(1))\n",
    "model.compile(loss='mean_squared_error', optimizer='adam')\n",
    "model.fit(trainX, trainY, nb_epoch=100, batch_size=1, verbose=2)\n",
    "import math\n",
    "# make predictions\n",
    "trainPredict = model.predict(trainX)\n",
    "testPredict = model.predict(testX)\n",
    "# invert predictions\n",
    "from sklearn.metrics import mean_squared_error\n",
    "trainPredict = scaler.inverse_transform(trainPredict)\n",
    "trainY = scaler.inverse_transform([trainY])\n",
    "testPredict = scaler.inverse_transform(testPredict)\n",
    "testY = scaler.inverse_transform([testY])\n",
    "# calculate root mean squared error\n",
    "trainScore = math.sqrt(mean_squared_error(trainY[0], trainPredict[:,0]))\n",
    "print('Train Score: %.2f RMSE' % (trainScore))\n",
    "testScore = math.sqrt(mean_squared_error(testY[0], testPredict[:,0]))\n",
    "print('Test Score: %.2f RMSE' % (testScore))\n",
    "# shift train predictions for plotting\n",
    "trainPredictPlot = numpy.empty_like(dataset)\n",
    "trainPredictPlot[:, :] = numpy.nan\n",
    "trainPredictPlot[look_back:len(trainPredict)+look_back, :] = trainPredict\n",
    "# shift test predictions for plotting\n",
    "testPredictPlot = numpy.empty_like(dataset)\n",
    "testPredictPlot[:, :] = numpy.nan\n",
    "testPredictPlot[len(trainPredict)+(look_back*2)+1:len(dataset)-1, :] = testPredict\n",
    "# plot baseline and predictions\n",
    "plt.plot(scaler.inverse_transform(dataset))\n",
    "plt.plot(trainPredictPlot)\n",
    "plt.plot(testPredictPlot)\n",
    "plt.show()"
   ]
  },
  {
   "cell_type": "code",
   "execution_count": null,
   "metadata": {
    "collapsed": false
   },
   "outputs": [],
   "source": [
    "import numpy\n",
    "import math\n",
    "from keras.models import Sequential\n",
    "from keras.layers import Dense\n",
    "from keras.layers import LSTM\n",
    "from sklearn.preprocessing import MinMaxScaler\n",
    "from sklearn.metrics import mean_squared_error\n",
    "import pandas\n",
    "import matplotlib.pyplot as plt\n",
    "dataset = pandas.read_csv('bitcoin_single_addr.csv', usecols=[2], engine='python')\n",
    "plt.plot(dataset)\n",
    "plt.show()"
   ]
  },
  {
   "cell_type": "code",
   "execution_count": 4,
   "metadata": {
    "collapsed": false
   },
   "outputs": [
    {
     "name": "stdout",
     "output_type": "stream",
     "text": [
      "(8481, 1)\n"
     ]
    }
   ],
   "source": [
    "dataset =numpy.array(dataset)\n",
    "print(dataset.shape)"
   ]
  },
  {
   "cell_type": "code",
   "execution_count": 6,
   "metadata": {
    "collapsed": false
   },
   "outputs": [
    {
     "name": "stdout",
     "output_type": "stream",
     "text": [
      "4744593750\n",
      "-4836940427\n"
     ]
    }
   ],
   "source": [
    "print(dataset.max())\n",
    "print(dataset.min())"
   ]
  },
  {
   "cell_type": "code",
   "execution_count": 7,
   "metadata": {
    "collapsed": true
   },
   "outputs": [],
   "source": [
    "dataset=dataset/100"
   ]
  },
  {
   "cell_type": "code",
   "execution_count": 8,
   "metadata": {
    "collapsed": false
   },
   "outputs": [
    {
     "name": "stdout",
     "output_type": "stream",
     "text": [
      "47445937.5\n"
     ]
    }
   ],
   "source": [
    "print(dataset.max())"
   ]
  },
  {
   "cell_type": "code",
   "execution_count": 9,
   "metadata": {
    "collapsed": false
   },
   "outputs": [
    {
     "data": {
      "image/png": "[encoded data removed]",
      "text/plain": [
       "<matplotlib.figure.Figure at 0x102d51198>"
      ]
     },
     "metadata": {},
     "output_type": "display_data"
    }
   ],
   "source": [
    "plt.plot(dataset)\n",
    "plt.show()"
   ]
  },
  {
   "cell_type": "code",
   "execution_count": 10,
   "metadata": {
    "collapsed": true
   },
   "outputs": [],
   "source": [
    "dataset=dataset//10000000"
   ]
  },
  {
   "cell_type": "code",
   "execution_count": 12,
   "metadata": {
    "collapsed": false
   },
   "outputs": [
    {
     "name": "stdout",
     "output_type": "stream",
     "text": [
      "4.0\n",
      "-5.0\n"
     ]
    }
   ],
   "source": [
    "print(dataset.max())\n",
    "print(dataset.min())"
   ]
  },
  {
   "cell_type": "code",
   "execution_count": null,
   "metadata": {
    "collapsed": false
   },
   "outputs": [],
   "source": [
    "plt.plot(dataset)\n",
    "plt.show()"
   ]
  },
  {
   "cell_type": "code",
   "execution_count": null,
   "metadata": {
    "collapsed": false
   },
   "outputs": [],
   "source": []
  },
  {
   "cell_type": "code",
   "execution_count": null,
   "metadata": {
    "collapsed": false
   },
   "outputs": [],
   "source": []
  },
  {
   "cell_type": "code",
   "execution_count": null,
   "metadata": {
    "collapsed": true
   },
   "outputs": [],
   "source": []
  }
 ],
 "metadata": {
  "kernelspec": {
   "display_name": "tfkernel",
   "language": "python",
   "name": "tfkernel"
  },
  "language_info": {
   "codemirror_mode": {
    "name": "ipython",
    "version": 3
   },
   "file_extension": ".py",
   "mimetype": "text/x-python",
   "name": "python",
   "nbconvert_exporter": "python",
   "pygments_lexer": "ipython3",
   "version": "3.5.3"
  }
 },
 "nbformat": 4,
 "nbformat_minor": 2
}
