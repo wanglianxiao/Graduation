{
 "cells": [
  {
   "cell_type": "markdown",
   "metadata": {},
   "source": [
    "## Description"
   ]
  },
  {
   "cell_type": "code",
   "execution_count": null,
   "metadata": {
    "collapsed": true
   },
   "outputs": [],
   "source": [
    "#   Dataset: From ：The first line of data from top400seq.txt.\n",
    "#            Size ：679 numbers of float\n",
    "#            Desc ：Every number represents the time of every company's being acquired Sequentially.\n",
    "#            FYI  ：https://github.com/wangxiaodui/wanglianxiao/blob/master/top400seq.txt"
   ]
  },
  {
   "cell_type": "code",
   "execution_count": null,
   "metadata": {
    "collapsed": true
   },
   "outputs": [],
   "source": [
    "#   Motivation: Predict the time of the next company to be acquired"
   ]
  },
  {
   "cell_type": "code",
   "execution_count": null,
   "metadata": {
    "collapsed": true
   },
   "outputs": [],
   "source": [
    "#   Tools: keras ：build and train model\n",
    "#          numpy ：process data as array\n",
    "#          pandas ：Read data\n",
    "#          matplotlib ：draw data graph"
   ]
  },
  {
   "cell_type": "code",
   "execution_count": null,
   "metadata": {
    "collapsed": true
   },
   "outputs": [],
   "source": [
    "#   Result: build a lstm model for the data with a loss of 8.2519e-06"
   ]
  },
  {
   "cell_type": "code",
   "execution_count": 1,
   "metadata": {
    "collapsed": false
   },
   "outputs": [
    {
     "name": "stdout",
     "output_type": "stream",
     "text": [
      "        0         1         2         3         4         5         6    \\\n",
      "0  0.046575  0.654795  1.035616  1.254795  1.345205  1.731507  2.134247   \n",
      "\n",
      "        7         8         9      ...            669        670        671  \\\n",
      "0  2.139726  2.161644  2.210959    ...      14.194521  14.219178  14.232877   \n",
      "\n",
      "         672        673        674        675        676        677        678  \n",
      "0  14.254795  14.254795  14.254795  14.254795  14.254795  14.254795  14.257534  \n",
      "\n",
      "[1 rows x 679 columns]\n"
     ]
    }
   ],
   "source": [
    "#load data\n",
    "import pandas\n",
    "dataset = pandas.read_csv('top400seq.txt', delim_whitespace=True, nrows=1, index_col=None, header=None)\n",
    "print(dataset)"
   ]
  },
  {
   "cell_type": "code",
   "execution_count": 2,
   "metadata": {
    "collapsed": false
   },
   "outputs": [
    {
     "name": "stdout",
     "output_type": "stream",
     "text": [
      "(1, 679)\n"
     ]
    }
   ],
   "source": [
    "#change data form from[1,679] to[679,1]\n",
    "import numpy\n",
    "dataset =numpy.array(dataset)\n",
    "print(dataset.shape)"
   ]
  },
  {
   "cell_type": "code",
   "execution_count": 3,
   "metadata": {
    "collapsed": false
   },
   "outputs": [
    {
     "name": "stdout",
     "output_type": "stream",
     "text": [
      "(679, 1)\n"
     ]
    }
   ],
   "source": [
    "dataset=numpy.reshape(dataset,(679,1),)\n",
    "print(dataset.shape)"
   ]
  },
  {
   "cell_type": "code",
   "execution_count": 4,
   "metadata": {
    "collapsed": false
   },
   "outputs": [
    {
     "data": {
      "image/png": "[encoded data removed]",
      "text/plain": [
       "<matplotlib.figure.Figure at 0x103933240>"
      ]
     },
     "metadata": {},
     "output_type": "display_data"
    }
   ],
   "source": [
    "import matplotlib.pyplot as plt\n",
    "plt.plot(dataset)\n",
    "plt.show()"
   ]
  },
  {
   "cell_type": "code",
   "execution_count": 5,
   "metadata": {
    "collapsed": true
   },
   "outputs": [],
   "source": [
    "# fix random seed for reproducibility\n",
    "numpy.random.seed(7)"
   ]
  },
  {
   "cell_type": "code",
   "execution_count": 6,
   "metadata": {
    "collapsed": true
   },
   "outputs": [],
   "source": [
    "dataset = dataset.astype('float32')"
   ]
  },
  {
   "cell_type": "code",
   "execution_count": 7,
   "metadata": {
    "collapsed": false
   },
   "outputs": [],
   "source": [
    "# normalize the dataset making to between[0,1]\n",
    "from sklearn.preprocessing import MinMaxScaler\n",
    "scaler = MinMaxScaler(feature_range=(0, 1))\n",
    "dataset = scaler.fit_transform(dataset)\n",
    "# print(dataset)"
   ]
  },
  {
   "cell_type": "code",
   "execution_count": 8,
   "metadata": {
    "collapsed": false
   },
   "outputs": [
    {
     "name": "stdout",
     "output_type": "stream",
     "text": [
      "454 225\n"
     ]
    }
   ],
   "source": [
    "# split into train and test sets of 67% and 33%\n",
    "train_size = int(len(dataset) * 0.67)\n",
    "test_size = len(dataset) - train_size\n",
    "train, test = dataset[0:train_size,:], dataset[train_size:len(dataset),:]\n",
    "print(len(train), len(test))"
   ]
  },
  {
   "cell_type": "code",
   "execution_count": 9,
   "metadata": {
    "collapsed": true
   },
   "outputs": [],
   "source": [
    "# convert an array of values into a dataset matrix\n",
    "def create_dataset(dataset, look_back=1):\n",
    "\tdataX, dataY = [], []\n",
    "\tfor i in range(len(dataset)-look_back-1):\n",
    "\t\ta = dataset[i:(i+look_back), 0]\n",
    "\t\tdataX.append(a)\n",
    "\t\tdataY.append(dataset[i + look_back, 0])\n",
    "\treturn numpy.array(dataX), numpy.array(dataY)"
   ]
  },
  {
   "cell_type": "code",
   "execution_count": 10,
   "metadata": {
    "collapsed": true
   },
   "outputs": [],
   "source": [
    "# reshape into X=t and Y=t+1\n",
    "look_back = 1\n",
    "trainX, trainY = create_dataset(train, look_back)\n",
    "testX, testY = create_dataset(test, look_back)"
   ]
  },
  {
   "cell_type": "code",
   "execution_count": 11,
   "metadata": {
    "collapsed": false
   },
   "outputs": [
    {
     "name": "stdout",
     "output_type": "stream",
     "text": [
      "452\n",
      "223\n"
     ]
    }
   ],
   "source": [
    "print(len(trainX))\n",
    "print(len(testX))"
   ]
  },
  {
   "cell_type": "code",
   "execution_count": 12,
   "metadata": {
    "collapsed": true
   },
   "outputs": [],
   "source": [
    "# reshape input to be [samples, time steps, features]\n",
    "trainX = numpy.reshape(trainX, (trainX.shape[0], 1, trainX.shape[1]))\n",
    "testX = numpy.reshape(testX, (testX.shape[0], 1, testX.shape[1]))"
   ]
  },
  {
   "cell_type": "code",
   "execution_count": 13,
   "metadata": {
    "collapsed": false
   },
   "outputs": [
    {
     "name": "stderr",
     "output_type": "stream",
     "text": [
      "Using TensorFlow backend.\n"
     ]
    },
    {
     "name": "stdout",
     "output_type": "stream",
     "text": [
      "Epoch 1/100\n",
      "5s - loss: 0.0628\n",
      "Epoch 2/100\n",
      "4s - loss: 0.0074\n",
      "Epoch 3/100\n",
      "4s - loss: 0.0048\n",
      "Epoch 4/100\n",
      "4s - loss: 0.0025\n",
      "Epoch 5/100\n",
      "4s - loss: 0.0010\n",
      "Epoch 6/100\n",
      "4s - loss: 2.7106e-04\n",
      "Epoch 7/100\n",
      "4s - loss: 5.7580e-05\n",
      "Epoch 8/100\n",
      "4s - loss: 2.3350e-05\n",
      "Epoch 9/100\n",
      "4s - loss: 2.0180e-05\n",
      "Epoch 10/100\n",
      "4s - loss: 1.9436e-05\n",
      "Epoch 11/100\n",
      "3s - loss: 1.8548e-05\n",
      "Epoch 12/100\n",
      "4s - loss: 1.6285e-05\n",
      "Epoch 13/100\n",
      "4s - loss: 1.5434e-05\n",
      "Epoch 14/100\n",
      "4s - loss: 1.4017e-05\n",
      "Epoch 15/100\n",
      "4s - loss: 1.3318e-05\n",
      "Epoch 16/100\n",
      "4s - loss: 1.1417e-05\n",
      "Epoch 17/100\n",
      "4s - loss: 1.0872e-05\n",
      "Epoch 18/100\n",
      "4s - loss: 9.1492e-06\n",
      "Epoch 19/100\n",
      "4s - loss: 9.6860e-06\n",
      "Epoch 20/100\n",
      "4s - loss: 8.7291e-06\n",
      "Epoch 21/100\n",
      "4s - loss: 9.4046e-06\n",
      "Epoch 22/100\n",
      "4s - loss: 8.0082e-06\n",
      "Epoch 23/100\n",
      "4s - loss: 8.3760e-06\n",
      "Epoch 24/100\n",
      "4s - loss: 8.7118e-06\n",
      "Epoch 25/100\n",
      "4s - loss: 8.0222e-06\n",
      "Epoch 26/100\n",
      "4s - loss: 9.0546e-06\n",
      "Epoch 27/100\n",
      "4s - loss: 8.9590e-06\n",
      "Epoch 28/100\n",
      "4s - loss: 9.1554e-06\n",
      "Epoch 29/100\n",
      "4s - loss: 7.7210e-06\n",
      "Epoch 30/100\n",
      "4s - loss: 8.9476e-06\n",
      "Epoch 31/100\n",
      "4s - loss: 9.4509e-06\n",
      "Epoch 32/100\n",
      "4s - loss: 8.0517e-06\n",
      "Epoch 33/100\n",
      "4s - loss: 8.2386e-06\n",
      "Epoch 34/100\n",
      "4s - loss: 8.2149e-06\n",
      "Epoch 35/100\n",
      "4s - loss: 9.2220e-06\n",
      "Epoch 36/100\n",
      "4s - loss: 9.0390e-06\n",
      "Epoch 37/100\n",
      "4s - loss: 8.9049e-06\n",
      "Epoch 38/100\n",
      "4s - loss: 9.2531e-06\n",
      "Epoch 39/100\n",
      "4s - loss: 8.2779e-06\n",
      "Epoch 40/100\n",
      "4s - loss: 9.1933e-06\n",
      "Epoch 41/100\n",
      "4s - loss: 8.7614e-06\n",
      "Epoch 42/100\n",
      "4s - loss: 7.9458e-06\n",
      "Epoch 43/100\n",
      "4s - loss: 8.4901e-06\n",
      "Epoch 44/100\n",
      "4s - loss: 8.1183e-06\n",
      "Epoch 45/100\n",
      "4s - loss: 7.4109e-06\n",
      "Epoch 46/100\n",
      "4s - loss: 8.9424e-06\n",
      "Epoch 47/100\n",
      "4s - loss: 8.9478e-06\n",
      "Epoch 48/100\n",
      "4s - loss: 8.4049e-06\n",
      "Epoch 49/100\n",
      "4s - loss: 8.0534e-06\n",
      "Epoch 50/100\n",
      "4s - loss: 8.5641e-06\n",
      "Epoch 51/100\n",
      "4s - loss: 8.6069e-06\n",
      "Epoch 52/100\n",
      "4s - loss: 8.1816e-06\n",
      "Epoch 53/100\n",
      "4s - loss: 9.1751e-06\n",
      "Epoch 54/100\n",
      "4s - loss: 1.0159e-05\n",
      "Epoch 55/100\n",
      "4s - loss: 8.7898e-06\n",
      "Epoch 56/100\n",
      "3s - loss: 7.9423e-06\n",
      "Epoch 57/100\n",
      "4s - loss: 7.9242e-06\n",
      "Epoch 58/100\n",
      "3s - loss: 8.1331e-06\n",
      "Epoch 59/100\n",
      "4s - loss: 9.0924e-06\n",
      "Epoch 60/100\n",
      "4s - loss: 8.0369e-06\n",
      "Epoch 61/100\n",
      "4s - loss: 8.0978e-06\n",
      "Epoch 62/100\n",
      "4s - loss: 8.2534e-06\n",
      "Epoch 63/100\n",
      "3s - loss: 8.5120e-06\n",
      "Epoch 64/100\n",
      "4s - loss: 8.5039e-06\n",
      "Epoch 65/100\n",
      "4s - loss: 1.0652e-05\n",
      "Epoch 66/100\n",
      "4s - loss: 8.9589e-06\n",
      "Epoch 67/100\n",
      "4s - loss: 8.1833e-06\n",
      "Epoch 68/100\n",
      "4s - loss: 8.5076e-06\n",
      "Epoch 69/100\n",
      "4s - loss: 9.2333e-06\n",
      "Epoch 70/100\n",
      "5s - loss: 8.1119e-06\n",
      "Epoch 71/100\n",
      "4s - loss: 7.7306e-06\n",
      "Epoch 72/100\n",
      "4s - loss: 9.1023e-06\n",
      "Epoch 73/100\n",
      "4s - loss: 9.6030e-06\n",
      "Epoch 74/100\n",
      "4s - loss: 7.4541e-06\n",
      "Epoch 75/100\n",
      "4s - loss: 8.4584e-06\n",
      "Epoch 76/100\n",
      "4s - loss: 9.2610e-06\n",
      "Epoch 77/100\n",
      "4s - loss: 8.2347e-06\n",
      "Epoch 78/100\n",
      "4s - loss: 8.4733e-06\n",
      "Epoch 79/100\n",
      "4s - loss: 9.2243e-06\n",
      "Epoch 80/100\n",
      "5s - loss: 8.3947e-06\n",
      "Epoch 81/100\n",
      "4s - loss: 9.9293e-06\n",
      "Epoch 82/100\n",
      "4s - loss: 8.0438e-06\n",
      "Epoch 83/100\n",
      "4s - loss: 8.1217e-06\n",
      "Epoch 84/100\n",
      "4s - loss: 9.1292e-06\n",
      "Epoch 85/100\n",
      "4s - loss: 8.7743e-06\n",
      "Epoch 86/100\n",
      "4s - loss: 9.0184e-06\n",
      "Epoch 87/100\n",
      "4s - loss: 7.5472e-06\n",
      "Epoch 88/100\n",
      "5s - loss: 8.2208e-06\n",
      "Epoch 89/100\n",
      "4s - loss: 8.1434e-06\n",
      "Epoch 90/100\n",
      "4s - loss: 9.1731e-06\n",
      "Epoch 91/100\n",
      "4s - loss: 8.1272e-06\n",
      "Epoch 92/100\n",
      "4s - loss: 8.2011e-06\n",
      "Epoch 93/100\n",
      "4s - loss: 8.6754e-06\n",
      "Epoch 94/100\n",
      "4s - loss: 7.6752e-06\n",
      "Epoch 95/100\n",
      "4s - loss: 7.9079e-06\n",
      "Epoch 96/100\n",
      "4s - loss: 7.9857e-06\n",
      "Epoch 97/100\n",
      "4s - loss: 8.2821e-06\n",
      "Epoch 98/100\n",
      "4s - loss: 9.5380e-06\n",
      "Epoch 99/100\n",
      "4s - loss: 8.4373e-06\n",
      "Epoch 100/100\n",
      "4s - loss: 8.2519e-06\n"
     ]
    },
    {
     "data": {
      "text/plain": [
       "<keras.callbacks.History at 0x10ef5b710>"
      ]
     },
     "execution_count": 13,
     "metadata": {},
     "output_type": "execute_result"
    }
   ],
   "source": [
    "# create and fit the LSTM network\n",
    "from keras.models import Sequential\n",
    "from keras.layers import Dense\n",
    "from keras.layers import LSTM\n",
    "model = Sequential()\n",
    "model.add(LSTM(4, input_dim=look_back))\n",
    "model.add(Dense(1))\n",
    "model.compile(loss='mean_squared_error', optimizer='adam')\n",
    "model.fit(trainX, trainY, nb_epoch=100, batch_size=1, verbose=2)"
   ]
  },
  {
   "cell_type": "code",
   "execution_count": 14,
   "metadata": {
    "collapsed": false
   },
   "outputs": [
    {
     "name": "stdout",
     "output_type": "stream",
     "text": [
      "Train Score: 0.03 RMSE\n",
      "Test Score: 0.13 RMSE\n"
     ]
    }
   ],
   "source": [
    "import math\n",
    "# make predictions\n",
    "trainPredict = model.predict(trainX)\n",
    "testPredict = model.predict(testX)\n",
    "# invert predictions\n",
    "from sklearn.metrics import mean_squared_error\n",
    "trainPredict = scaler.inverse_transform(trainPredict)\n",
    "trainY = scaler.inverse_transform([trainY])\n",
    "testPredict = scaler.inverse_transform(testPredict)\n",
    "testY = scaler.inverse_transform([testY])\n",
    "# calculate root mean squared error\n",
    "trainScore = math.sqrt(mean_squared_error(trainY[0], trainPredict[:,0]))\n",
    "print('Train Score: %.2f RMSE' % (trainScore))\n",
    "testScore = math.sqrt(mean_squared_error(testY[0], testPredict[:,0]))\n",
    "print('Test Score: %.2f RMSE' % (testScore))"
   ]
  },
  {
   "cell_type": "code",
   "execution_count": 15,
   "metadata": {
    "collapsed": false
   },
   "outputs": [
    {
     "data": {
      "image/png": "[encoded data removed]",
      "text/plain": [
       "<matplotlib.figure.Figure at 0x10f1bcc18>"
      ]
     },
     "metadata": {},
     "output_type": "display_data"
    }
   ],
   "source": [
    "# shift train predictions for plotting\n",
    "trainPredictPlot = numpy.empty_like(dataset)\n",
    "trainPredictPlot[:, :] = numpy.nan\n",
    "trainPredictPlot[look_back:len(trainPredict)+look_back, :] = trainPredict\n",
    "# shift test predictions for plotting\n",
    "testPredictPlot = numpy.empty_like(dataset)\n",
    "testPredictPlot[:, :] = numpy.nan\n",
    "testPredictPlot[len(trainPredict)+(look_back*2)+1:len(dataset)-1, :] = testPredict\n",
    "# plot baseline and predictions\n",
    "plt.plot(scaler.inverse_transform(dataset))\n",
    "plt.plot(trainPredictPlot)\n",
    "plt.plot(testPredictPlot)\n",
    "plt.show()"
   ]
  },
  {
   "cell_type": "code",
   "execution_count": null,
   "metadata": {
    "collapsed": true
   },
   "outputs": [],
   "source": []
  }
 ],
 "metadata": {
  "kernelspec": {
   "display_name": "tfkernel",
   "language": "python",
   "name": "tfkernel"
  },
  "language_info": {
   "codemirror_mode": {
    "name": "ipython",
    "version": 3
   },
   "file_extension": ".py",
   "mimetype": "text/x-python",
   "name": "python",
   "nbconvert_exporter": "python",
   "pygments_lexer": "ipython3",
   "version": "3.5.3"
  }
 },
 "nbformat": 4,
 "nbformat_minor": 2
}
