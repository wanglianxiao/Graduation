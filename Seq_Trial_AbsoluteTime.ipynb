{
 "cells": [
  {
   "cell_type": "markdown",
   "metadata": {},
   "source": [
    "## Description"
   ]
  },
  {
   "cell_type": "code",
   "execution_count": 1,
   "metadata": {
    "collapsed": true
   },
   "outputs": [],
   "source": [
    "#  Dataset: From ：The first line of data from top400seq.txt.\n",
    "#           Size ：679 numbers of float\n",
    "#           Desc ：Every number represents the time of every company's being acquired Sequentially.\n",
    "#           FYI  ：https://github.com/wangxiaodui/wanglianxiao/blob/master/top400seq.txt"
   ]
  },
  {
   "cell_type": "code",
   "execution_count": 2,
   "metadata": {
    "collapsed": true
   },
   "outputs": [],
   "source": [
    "#  Motivation: Predict the time of the next company to be acquired"
   ]
  },
  {
   "cell_type": "code",
   "execution_count": 3,
   "metadata": {
    "collapsed": true
   },
   "outputs": [],
   "source": [
    "#  Tools: keras ：build and train model\n",
    "#         numpy ：process data as array\n",
    "#         pandas ：Read data\n",
    "#         matplotlib ：draw data graph"
   ]
  },
  {
   "cell_type": "code",
   "execution_count": 4,
   "metadata": {
    "collapsed": true
   },
   "outputs": [],
   "source": [
    "#  Result: build a lstm model for the data with a loss of 8.2519e-06"
   ]
  },
  {
   "cell_type": "markdown",
   "metadata": {},
   "source": [
    "## Experiment"
   ]
  },
  {
   "cell_type": "markdown",
   "metadata": {},
   "source": [
    "### 1. read and process data"
   ]
  },
  {
   "cell_type": "code",
   "execution_count": 5,
   "metadata": {
    "collapsed": false
   },
   "outputs": [
    {
     "name": "stdout",
     "output_type": "stream",
     "text": [
      "        0         1         2         3         4         5         6    \\\n",
      "0  0.046575  0.654795  1.035616  1.254795  1.345205  1.731507  2.134247   \n",
      "\n",
      "        7         8         9      ...            669        670        671  \\\n",
      "0  2.139726  2.161644  2.210959    ...      14.194521  14.219178  14.232877   \n",
      "\n",
      "         672        673        674        675        676        677        678  \n",
      "0  14.254795  14.254795  14.254795  14.254795  14.254795  14.254795  14.257534  \n",
      "\n",
      "[1 rows x 679 columns]\n"
     ]
    }
   ],
   "source": [
    "# load data\n",
    "import pandas\n",
    "dataset = pandas.read_csv('top400seq.txt', delim_whitespace=True, nrows=1, index_col=None, header=None)\n",
    "print(dataset)"
   ]
  },
  {
   "cell_type": "code",
   "execution_count": 6,
   "metadata": {
    "collapsed": false
   },
   "outputs": [
    {
     "name": "stdout",
     "output_type": "stream",
     "text": [
      "(1, 679)\n"
     ]
    }
   ],
   "source": [
    "# change Pandas dataframe to NumPy array for better processing\n",
    "import numpy\n",
    "dataset =numpy.array(dataset)\n",
    "print(dataset.shape)"
   ]
  },
  {
   "cell_type": "code",
   "execution_count": 7,
   "metadata": {
    "collapsed": false
   },
   "outputs": [
    {
     "name": "stdout",
     "output_type": "stream",
     "text": [
      "(679, 1)\n"
     ]
    }
   ],
   "source": [
    "# reshape data\n",
    "dataset=numpy.reshape(dataset,(679,1),)\n",
    "print(dataset.shape)"
   ]
  },
  {
   "cell_type": "code",
   "execution_count": 12,
   "metadata": {
    "collapsed": false
   },
   "outputs": [
    {
     "data": {
      "image/png": "[encoded data removed]",
      "text/plain": [
       "<matplotlib.figure.Figure at 0x109ba8e80>"
      ]
     },
     "metadata": {},
     "output_type": "display_data"
    }
   ],
   "source": [
    "# The dataset looks like this\n",
    "import matplotlib.pyplot as plt\n",
    "plt.plot(dataset)\n",
    "plt.title(\"679 companies's acquisition time squentially\",fontsize = 10)\n",
    "plt.xlabel(\"679 companies\")\n",
    "plt.ylabel(\"abusolute time between(0,15)\")\n",
    "plt.show()"
   ]
  },
  {
   "cell_type": "code",
   "execution_count": 13,
   "metadata": {
    "collapsed": true
   },
   "outputs": [],
   "source": [
    "# fix random seed for reproducibility\n",
    "numpy.random.seed(7)"
   ]
  },
  {
   "cell_type": "code",
   "execution_count": 15,
   "metadata": {
    "collapsed": false
   },
   "outputs": [],
   "source": [
    "# normalize the dataset making all the numbers to between[0,1] for better processing\n",
    "from sklearn.preprocessing import MinMaxScaler\n",
    "scaler = MinMaxScaler(feature_range=(0, 1))\n",
    "dataset = scaler.fit_transform(dataset)"
   ]
  },
  {
   "cell_type": "code",
   "execution_count": 31,
   "metadata": {
    "collapsed": false
   },
   "outputs": [
    {
     "name": "stdout",
     "output_type": "stream",
     "text": [
      "454 225\n",
      "(454, 1)\n"
     ]
    }
   ],
   "source": [
    "# split into train and test sets of 67%(454) and 33%(225)\n",
    "train_size = int(len(dataset) * 0.67)\n",
    "test_size = len(dataset) - train_size\n",
    "train, test = dataset[0:train_size,:], dataset[train_size:len(dataset),:]\n",
    "print(len(train), len(test))\n",
    "print(train.shape)"
   ]
  },
  {
   "cell_type": "code",
   "execution_count": 32,
   "metadata": {
    "collapsed": true
   },
   "outputs": [],
   "source": [
    "# predit next acquisition time with this acquisition time \n",
    "# so define a function convert an array of values into a dataset matrix with X=t and Y=t+1\n",
    "def create_dataset(dataset, look_back=1):\n",
    "\tdataX, dataY = [], []\n",
    "\tfor i in range(len(dataset)-look_back-1):\n",
    "\t\ta = dataset[i:(i+look_back), 0]\n",
    "\t\tdataX.append(a)\n",
    "\t\tdataY.append(dataset[i + look_back, 0])\n",
    "\treturn numpy.array(dataX), numpy.array(dataY)"
   ]
  },
  {
   "cell_type": "code",
   "execution_count": 33,
   "metadata": {
    "collapsed": false
   },
   "outputs": [
    {
     "name": "stdout",
     "output_type": "stream",
     "text": [
      "452 452\n",
      "223 223\n"
     ]
    }
   ],
   "source": [
    "# reshape train and test datasets into X=t and Y=t+1\n",
    "trainX, trainY = create_dataset(train, look_back)\n",
    "testX, testY = create_dataset(test, look_back)\n",
    "print(len(trainX),len(trainY))\n",
    "print(len(testX),len(testY))"
   ]
  },
  {
   "cell_type": "code",
   "execution_count": 37,
   "metadata": {
    "collapsed": false
   },
   "outputs": [
    {
     "name": "stdout",
     "output_type": "stream",
     "text": [
      "(452, 1, 1)\n"
     ]
    }
   ],
   "source": [
    "# reshape input as LSTM network expected to be [samples, time steps, features]\n",
    "trainX = numpy.reshape(trainX, (trainX.shape[0], 1, trainX.shape[1]))\n",
    "testX = numpy.reshape(testX, (testX.shape[0], 1, testX.shape[1]))\n",
    "print(trainX.shape)"
   ]
  },
  {
   "cell_type": "markdown",
   "metadata": {},
   "source": [
    "### 2. create and fit the LSTM network"
   ]
  },
  {
   "cell_type": "code",
   "execution_count": null,
   "metadata": {
    "collapsed": true
   },
   "outputs": [],
   "source": [
    "# Sequential is a linear stack of multiple network layers\n",
    "# Dense is full connection layer\n",
    "from keras.models import Sequential\n",
    "from keras.layers import Dense\n",
    "from keras.layers import LSTM"
   ]
  },
  {
   "cell_type": "code",
   "execution_count": null,
   "metadata": {
    "collapsed": true
   },
   "outputs": [],
   "source": [
    "# here is a visible layer with 1 input\n",
    "# a hidden layer with 4 LSTM neurons\n",
    "# an output layer that makes a single value prediction. \n",
    "model = Sequential()\n",
    "model.add(LSTM(4, input_dim=look_back))\n",
    "model.add(Dense(1))"
   ]
  },
  {
   "cell_type": "code",
   "execution_count": null,
   "metadata": {
    "collapsed": true
   },
   "outputs": [],
   "source": [
    "# compile function configures the learning process.\n",
    "# set the loss function, optimizer and the default sigmoid activation function.\n",
    "model.compile(loss='mean_squared_error', optimizer='adam')"
   ]
  },
  {
   "cell_type": "code",
   "execution_count": 38,
   "metadata": {
    "collapsed": false
   },
   "outputs": [
    {
     "name": "stderr",
     "output_type": "stream",
     "text": [
      "Using TensorFlow backend.\n"
     ]
    },
    {
     "name": "stdout",
     "output_type": "stream",
     "text": [
      "Epoch 1/100\n",
      "5s - loss: 0.0629\n",
      "Epoch 2/100\n",
      "4s - loss: 0.0074\n",
      "Epoch 3/100\n",
      "5s - loss: 0.0048\n",
      "Epoch 4/100\n",
      "5s - loss: 0.0026\n",
      "Epoch 5/100\n",
      "5s - loss: 0.0010\n",
      "Epoch 6/100\n",
      "5s - loss: 2.7251e-04\n",
      "Epoch 7/100\n",
      "5s - loss: 5.7868e-05\n",
      "Epoch 8/100\n",
      "4s - loss: 2.3373e-05\n",
      "Epoch 9/100\n",
      "5s - loss: 2.0176e-05\n",
      "Epoch 10/100\n",
      "5s - loss: 1.9433e-05\n",
      "Epoch 11/100\n",
      "4s - loss: 1.8545e-05\n",
      "Epoch 12/100\n",
      "4s - loss: 1.6285e-05\n",
      "Epoch 13/100\n",
      "4s - loss: 1.5435e-05\n",
      "Epoch 14/100\n",
      "4s - loss: 1.4019e-05\n",
      "Epoch 15/100\n",
      "4s - loss: 1.3320e-05\n",
      "Epoch 16/100\n",
      "5s - loss: 1.1421e-05\n",
      "Epoch 17/100\n",
      "4s - loss: 1.0874e-05\n",
      "Epoch 18/100\n",
      "4s - loss: 9.1509e-06\n",
      "Epoch 19/100\n",
      "4s - loss: 9.6867e-06\n",
      "Epoch 20/100\n",
      "4s - loss: 8.7291e-06\n",
      "Epoch 21/100\n",
      "4s - loss: 9.4045e-06\n",
      "Epoch 22/100\n",
      "4s - loss: 8.0078e-06\n",
      "Epoch 23/100\n",
      "4s - loss: 8.3752e-06\n",
      "Epoch 24/100\n",
      "4s - loss: 8.7117e-06\n",
      "Epoch 25/100\n",
      "4s - loss: 8.0223e-06\n",
      "Epoch 26/100\n",
      "4s - loss: 9.0545e-06\n",
      "Epoch 27/100\n",
      "4s - loss: 8.9593e-06\n",
      "Epoch 28/100\n",
      "4s - loss: 9.1559e-06\n",
      "Epoch 29/100\n",
      "4s - loss: 7.7209e-06\n",
      "Epoch 30/100\n",
      "4s - loss: 8.9473e-06\n",
      "Epoch 31/100\n",
      "4s - loss: 9.4500e-06\n",
      "Epoch 32/100\n",
      "4s - loss: 8.0515e-06\n",
      "Epoch 33/100\n",
      "4s - loss: 8.2385e-06\n",
      "Epoch 34/100\n",
      "4s - loss: 8.2148e-06\n",
      "Epoch 35/100\n",
      "4s - loss: 9.2222e-06\n",
      "Epoch 36/100\n",
      "4s - loss: 9.0389e-06\n",
      "Epoch 37/100\n",
      "4s - loss: 8.9054e-06\n",
      "Epoch 38/100\n",
      "4s - loss: 9.2521e-06\n",
      "Epoch 39/100\n",
      "4s - loss: 8.2784e-06\n",
      "Epoch 40/100\n",
      "4s - loss: 9.1937e-06\n",
      "Epoch 41/100\n",
      "4s - loss: 8.7608e-06\n",
      "Epoch 42/100\n",
      "4s - loss: 7.9461e-06\n",
      "Epoch 43/100\n",
      "4s - loss: 8.4895e-06\n",
      "Epoch 44/100\n",
      "4s - loss: 8.1184e-06\n",
      "Epoch 45/100\n",
      "4s - loss: 7.4107e-06\n",
      "Epoch 46/100\n",
      "4s - loss: 8.9418e-06\n",
      "Epoch 47/100\n",
      "4s - loss: 8.9479e-06\n",
      "Epoch 48/100\n",
      "4s - loss: 8.4051e-06\n",
      "Epoch 49/100\n",
      "4s - loss: 8.0537e-06\n",
      "Epoch 50/100\n",
      "4s - loss: 8.5639e-06\n",
      "Epoch 51/100\n",
      "4s - loss: 8.6069e-06\n",
      "Epoch 52/100\n",
      "4s - loss: 8.1815e-06\n",
      "Epoch 53/100\n",
      "5s - loss: 9.1750e-06\n",
      "Epoch 54/100\n",
      "4s - loss: 1.0160e-05\n",
      "Epoch 55/100\n",
      "4s - loss: 8.7893e-06\n",
      "Epoch 56/100\n",
      "4s - loss: 7.9414e-06\n",
      "Epoch 57/100\n",
      "4s - loss: 7.9238e-06\n",
      "Epoch 58/100\n",
      "4s - loss: 8.1334e-06\n",
      "Epoch 59/100\n",
      "4s - loss: 9.0916e-06\n",
      "Epoch 60/100\n",
      "4s - loss: 8.0359e-06\n",
      "Epoch 61/100\n",
      "4s - loss: 8.0983e-06\n",
      "Epoch 62/100\n",
      "4s - loss: 8.2536e-06\n",
      "Epoch 63/100\n",
      "4s - loss: 8.5125e-06\n",
      "Epoch 64/100\n",
      "4s - loss: 8.5044e-06\n",
      "Epoch 65/100\n",
      "4s - loss: 1.0651e-05\n",
      "Epoch 66/100\n",
      "4s - loss: 8.9590e-06\n",
      "Epoch 67/100\n",
      "4s - loss: 8.1830e-06\n",
      "Epoch 68/100\n",
      "4s - loss: 8.5078e-06\n",
      "Epoch 69/100\n",
      "4s - loss: 9.2327e-06\n",
      "Epoch 70/100\n",
      "4s - loss: 8.1114e-06\n",
      "Epoch 71/100\n",
      "4s - loss: 7.7312e-06\n",
      "Epoch 72/100\n",
      "4s - loss: 9.1022e-06\n",
      "Epoch 73/100\n",
      "4s - loss: 9.6025e-06\n",
      "Epoch 74/100\n",
      "4s - loss: 7.4537e-06\n",
      "Epoch 75/100\n",
      "4s - loss: 8.4587e-06\n",
      "Epoch 76/100\n",
      "4s - loss: 9.2624e-06\n",
      "Epoch 77/100\n",
      "4s - loss: 8.2344e-06\n",
      "Epoch 78/100\n",
      "4s - loss: 8.4732e-06\n",
      "Epoch 79/100\n",
      "4s - loss: 9.2249e-06\n",
      "Epoch 80/100\n",
      "4s - loss: 8.3949e-06\n",
      "Epoch 81/100\n",
      "4s - loss: 9.9292e-06\n",
      "Epoch 82/100\n",
      "4s - loss: 8.0440e-06\n",
      "Epoch 83/100\n",
      "4s - loss: 8.1220e-06\n",
      "Epoch 84/100\n",
      "4s - loss: 9.1285e-06\n",
      "Epoch 85/100\n",
      "4s - loss: 8.7749e-06\n",
      "Epoch 86/100\n",
      "5s - loss: 9.0191e-06\n",
      "Epoch 87/100\n",
      "4s - loss: 7.5473e-06\n",
      "Epoch 88/100\n",
      "5s - loss: 8.2206e-06\n",
      "Epoch 89/100\n",
      "4s - loss: 8.1428e-06\n",
      "Epoch 90/100\n",
      "5s - loss: 9.1725e-06\n",
      "Epoch 91/100\n",
      "4s - loss: 8.1276e-06\n",
      "Epoch 92/100\n",
      "5s - loss: 8.2002e-06\n",
      "Epoch 93/100\n",
      "5s - loss: 8.6763e-06\n",
      "Epoch 94/100\n",
      "5s - loss: 7.6751e-06\n",
      "Epoch 95/100\n",
      "4s - loss: 7.9082e-06\n",
      "Epoch 96/100\n",
      "5s - loss: 7.9861e-06\n",
      "Epoch 97/100\n",
      "5s - loss: 8.2821e-06\n",
      "Epoch 98/100\n",
      "5s - loss: 9.5384e-06\n",
      "Epoch 99/100\n",
      "5s - loss: 8.4366e-06\n",
      "Epoch 100/100\n",
      "5s - loss: 8.2512e-06\n"
     ]
    },
    {
     "data": {
      "text/plain": [
       "<keras.callbacks.History at 0x112975898>"
      ]
     },
     "execution_count": 38,
     "metadata": {},
     "output_type": "execute_result"
    }
   ],
   "source": [
    "# fit function trains the model for a fixed number of epochs.\n",
    "# the network is trained for 100 epochs and a batch size of 1 is used.\n",
    "model.fit(trainX, trainY, nb_epoch=100, batch_size=1, verbose=2)"
   ]
  },
  {
   "cell_type": "markdown",
   "metadata": {},
   "source": [
    "### 3. estimate the performance"
   ]
  },
  {
   "cell_type": "code",
   "execution_count": 39,
   "metadata": {
    "collapsed": false
   },
   "outputs": [
    {
     "name": "stdout",
     "output_type": "stream",
     "text": [
      "Train Score: 0.00 RMSE\n",
      "Test Score: 0.01 RMSE\n"
     ]
    }
   ],
   "source": [
    "import math\n",
    "# make predictions\n",
    "trainPredict = model.predict(trainX)\n",
    "testPredict = model.predict(testX)\n",
    "# invert predictions[0,1] to the same units as the original data[0,14.*]\n",
    "from sklearn.metrics import mean_squared_error\n",
    "trainPredict = scaler.inverse_transform(trainPredict)\n",
    "trainY = scaler.inverse_transform([trainY])\n",
    "testPredict = scaler.inverse_transform(testPredict)\n",
    "testY = scaler.inverse_transform([testY])\n",
    "# calculate root mean squared error\n",
    "trainScore = math.sqrt(mean_squared_error(trainY[0], trainPredict[:,0]))\n",
    "print('Train Score: %.2f RMSE' % (trainScore))\n",
    "testScore = math.sqrt(mean_squared_error(testY[0], testPredict[:,0]))\n",
    "print('Test Score: %.2f RMSE' % (testScore))\n",
    "# We can see that the model nearly has no error on the training dataset\n",
    "# and an average error of about 0.01 years on the test dataset. Good."
   ]
  },
  {
   "cell_type": "code",
   "execution_count": 41,
   "metadata": {
    "collapsed": false
   },
   "outputs": [
    {
     "data": {
      "image/png": "[encoded data removed]",
      "text/plain": [
       "<matplotlib.figure.Figure at 0x112e2b320>"
      ]
     },
     "metadata": {},
     "output_type": "display_data"
    }
   ],
   "source": [
    "# shift train predictions for plotting\n",
    "trainPredictPlot = numpy.empty_like(dataset)\n",
    "trainPredictPlot[:, :] = numpy.nan\n",
    "trainPredictPlot[look_back:len(trainPredict)+look_back, :] = trainPredict\n",
    "# shift test predictions for plotting\n",
    "testPredictPlot = numpy.empty_like(dataset)\n",
    "testPredictPlot[:, :] = numpy.nan\n",
    "testPredictPlot[len(trainPredict)+(look_back*2)+1:len(dataset)-1, :] = testPredict\n",
    "# plot baseline and predictions\n",
    "plt.plot(scaler.inverse_transform(dataset),label=\"origin dataset\")\n",
    "plt.plot(trainPredictPlot,label=\"train\")\n",
    "plt.plot(testPredictPlot,label=\"test\")\n",
    "plt.title(\"679 companies's acquisition time squentially\",fontsize = 10)\n",
    "plt.xlabel(\"679 companies\")\n",
    "plt.ylabel(\"abusolute time between(0,15)\")\n",
    "plt.legend()\n",
    "plt.show()"
   ]
  },
  {
   "cell_type": "code",
   "execution_count": null,
   "metadata": {
    "collapsed": true
   },
   "outputs": [],
   "source": []
  }
 ],
 "metadata": {
  "kernelspec": {
   "display_name": "tfkernel",
   "language": "python",
   "name": "tfkernel"
  },
  "language_info": {
   "codemirror_mode": {
    "name": "ipython",
    "version": 3
   },
   "file_extension": ".py",
   "mimetype": "text/x-python",
   "name": "python",
   "nbconvert_exporter": "python",
   "pygments_lexer": "ipython3",
   "version": "3.5.3"
  }
 },
 "nbformat": 4,
 "nbformat_minor": 2
}
