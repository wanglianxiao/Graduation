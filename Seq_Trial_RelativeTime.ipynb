{
 "cells": [
  {
   "cell_type": "code",
   "execution_count": 1,
   "metadata": {
    "collapsed": false
   },
   "outputs": [
    {
     "name": "stdout",
     "output_type": "stream",
     "text": [
      "        0         1         2         3         4         5         6    \\\n",
      "0  0.046575  0.654795  1.035616  1.254795  1.345205  1.731507  2.134247   \n",
      "\n",
      "        7         8         9      ...            669        670        671  \\\n",
      "0  2.139726  2.161644  2.210959    ...      14.194521  14.219178  14.232877   \n",
      "\n",
      "         672        673        674        675        676        677        678  \n",
      "0  14.254795  14.254795  14.254795  14.254795  14.254795  14.254795  14.257534  \n",
      "\n",
      "[1 rows x 679 columns]         0         1         2         3         4         5         6    \\\n",
      "0  0.046575  0.654795  1.035616  1.254795  1.345205  1.731507  2.134247   \n",
      "\n",
      "        7         8         9      ...            669        670        671  \\\n",
      "0  2.139726  2.161644  2.210959    ...      14.194521  14.219178  14.232877   \n",
      "\n",
      "         672        673        674        675        676        677        678  \n",
      "0  14.254795  14.254795  14.254795  14.254795  14.254795  14.254795  14.257534  \n",
      "\n",
      "[1 rows x 679 columns]\n"
     ]
    }
   ],
   "source": [
    "#load data\n",
    "import pandas\n",
    "import numpy\n",
    "dataset_absolute = pandas.read_csv('top400seq.txt', delim_whitespace=True, nrows=1, index_col=None, header=None)\n",
    "dataset = pandas.read_csv('top400seq.txt', delim_whitespace=True, nrows=1, index_col=None, header=None)\n",
    "print(dataset_absolute,dataset)"
   ]
  },
  {
   "cell_type": "code",
   "execution_count": 4,
   "metadata": {
    "collapsed": false
   },
   "outputs": [
    {
     "name": "stdout",
     "output_type": "stream",
     "text": [
      "        0         1         2         3         4         5         6    \\\n",
      "0  0.046575  0.654795  1.035616  1.254795  1.345205  1.731507  2.134247   \n",
      "\n",
      "        7         8         9      ...            669        670        671  \\\n",
      "0  2.139726  2.161644  2.210959    ...      14.194521  14.219178  14.232877   \n",
      "\n",
      "         672        673        674        675        676        677        678  \n",
      "0  14.254795  14.254795  14.254795  14.254795  14.254795  14.254795  14.257534  \n",
      "\n",
      "[1 rows x 679 columns]         0        1         2         3        4         5        6    \\\n",
      "0  0.046575  0.60822  0.380821  0.219179  0.09041  0.386302  0.40274   \n",
      "\n",
      "        7         8         9      ...          669       670       671  \\\n",
      "0  0.005479  0.021918  0.049315    ...     0.013699  0.024657  0.013699   \n",
      "\n",
      "        672  673  674  675  676  677       678  \n",
      "0  0.021918  0.0  0.0  0.0  0.0  0.0  0.002739  \n",
      "\n",
      "[1 rows x 679 columns]\n"
     ]
    }
   ],
   "source": [
    "for i in range(len(dataset_absolute.columns)):\n",
    "    dataset[i] = dataset_absolute[i]-dataset_absolute[i-1] if(i!=0) else dataset_absolute[i]\n",
    "print(dataset_absolute,dataset)"
   ]
  },
  {
   "cell_type": "code",
   "execution_count": 16,
   "metadata": {
    "collapsed": false
   },
   "outputs": [
    {
     "name": "stdout",
     "output_type": "stream",
     "text": [
      "(679, 1)\n",
      "(679, 1)\n"
     ]
    }
   ],
   "source": [
    "#change data form from[1,679] to[679,1]\n",
    "dataset =numpy.array(dataset)\n",
    "dataset=numpy.reshape(dataset,(679,1),)\n",
    "print(dataset.shape)\n",
    "dataset_absolute =numpy.array(dataset_absolute)\n",
    "dataset_absolute=numpy.reshape(dataset_absolute,(679,1),)\n",
    "print(dataset_absolute.shape)"
   ]
  },
  {
   "cell_type": "code",
   "execution_count": 19,
   "metadata": {
    "collapsed": false
   },
   "outputs": [
    {
     "data": {
      "image/png": "[encoded data removed]",
      "text/plain": [
       "<matplotlib.figure.Figure at 0x106cab860>"
      ]
     },
     "metadata": {},
     "output_type": "display_data"
    },
    {
     "data": {
      "image/png": "[encoded data removed]",
      "text/plain": [
       "<matplotlib.figure.Figure at 0x106cbe588>"
      ]
     },
     "metadata": {},
     "output_type": "display_data"
    }
   ],
   "source": [
    "#draw data\n",
    "import matplotlib.pyplot as plt\n",
    "plt.plot(dataset_absolute)\n",
    "plt.show()\n",
    "plt.plot(dataset)\n",
    "plt.show()"
   ]
  },
  {
   "cell_type": "code",
   "execution_count": 20,
   "metadata": {
    "collapsed": true
   },
   "outputs": [],
   "source": [
    "# fix random seed for reproducibility\n",
    "numpy.random.seed(7)\n",
    "# normalize the dataset making to between[0,1]\n",
    "from sklearn.preprocessing import MinMaxScaler\n",
    "scaler = MinMaxScaler(feature_range=(0, 1))\n",
    "dataset = scaler.fit_transform(dataset)\n",
    "# print(dataset)"
   ]
  },
  {
   "cell_type": "code",
   "execution_count": 21,
   "metadata": {
    "collapsed": false
   },
   "outputs": [
    {
     "name": "stdout",
     "output_type": "stream",
     "text": [
      "454 225\n"
     ]
    }
   ],
   "source": [
    "# split into train and test sets of 67% and 33%\n",
    "train_size = int(len(dataset) * 0.67)\n",
    "test_size = len(dataset) - train_size\n",
    "train, test = dataset[0:train_size,:], dataset[train_size:len(dataset),:]\n",
    "print(len(train), len(test))"
   ]
  },
  {
   "cell_type": "code",
   "execution_count": 22,
   "metadata": {
    "collapsed": true
   },
   "outputs": [],
   "source": [
    "# convert an array of values into a dataset matrix\n",
    "def create_dataset(dataset, look_back=1):\n",
    "\tdataX, dataY = [], []\n",
    "\tfor i in range(len(dataset)-look_back-1):\n",
    "\t\ta = dataset[i:(i+look_back), 0]\n",
    "\t\tdataX.append(a)\n",
    "\t\tdataY.append(dataset[i + look_back, 0])\n",
    "\treturn numpy.array(dataX), numpy.array(dataY)"
   ]
  },
  {
   "cell_type": "code",
   "execution_count": 23,
   "metadata": {
    "collapsed": false
   },
   "outputs": [
    {
     "name": "stdout",
     "output_type": "stream",
     "text": [
      "452\n",
      "223\n"
     ]
    }
   ],
   "source": [
    "look_back = 1\n",
    "trainX, trainY = create_dataset(train, look_back)\n",
    "testX, testY = create_dataset(test, look_back)\n",
    "print(len(trainX))\n",
    "print(len(testX))"
   ]
  },
  {
   "cell_type": "code",
   "execution_count": 24,
   "metadata": {
    "collapsed": true
   },
   "outputs": [],
   "source": [
    "# reshape input to be [samples, time steps, features]\n",
    "trainX = numpy.reshape(trainX, (trainX.shape[0], 1, trainX.shape[1]))\n",
    "testX = numpy.reshape(testX, (testX.shape[0], 1, testX.shape[1]))"
   ]
  },
  {
   "cell_type": "code",
   "execution_count": 25,
   "metadata": {
    "collapsed": false
   },
   "outputs": [
    {
     "name": "stderr",
     "output_type": "stream",
     "text": [
      "Using TensorFlow backend.\n"
     ]
    },
    {
     "name": "stdout",
     "output_type": "stream",
     "text": [
      "Epoch 1/100\n",
      "6s - loss: 0.0065\n",
      "Epoch 2/100\n",
      "4s - loss: 0.0063\n",
      "Epoch 3/100\n",
      "4s - loss: 0.0061\n",
      "Epoch 4/100\n",
      "4s - loss: 0.0059\n",
      "Epoch 5/100\n",
      "4s - loss: 0.0058\n",
      "Epoch 6/100\n",
      "4s - loss: 0.0057\n",
      "Epoch 7/100\n",
      "4s - loss: 0.0057\n",
      "Epoch 8/100\n",
      "4s - loss: 0.0056\n",
      "Epoch 9/100\n",
      "4s - loss: 0.0056\n",
      "Epoch 10/100\n",
      "4s - loss: 0.0056\n",
      "Epoch 11/100\n",
      "5s - loss: 0.0056\n",
      "Epoch 12/100\n",
      "4s - loss: 0.0056\n",
      "Epoch 13/100\n",
      "4s - loss: 0.0056\n",
      "Epoch 14/100\n",
      "4s - loss: 0.0055\n",
      "Epoch 15/100\n",
      "4s - loss: 0.0055\n",
      "Epoch 16/100\n",
      "4s - loss: 0.0056\n",
      "Epoch 17/100\n",
      "4s - loss: 0.0055\n",
      "Epoch 18/100\n",
      "4s - loss: 0.0056\n",
      "Epoch 19/100\n",
      "4s - loss: 0.0055\n",
      "Epoch 20/100\n",
      "4s - loss: 0.0056\n",
      "Epoch 21/100\n",
      "4s - loss: 0.0055\n",
      "Epoch 22/100\n",
      "4s - loss: 0.0056\n",
      "Epoch 23/100\n",
      "4s - loss: 0.0055\n",
      "Epoch 24/100\n",
      "4s - loss: 0.0055\n",
      "Epoch 25/100\n",
      "4s - loss: 0.0055\n",
      "Epoch 26/100\n",
      "4s - loss: 0.0055\n",
      "Epoch 27/100\n",
      "4s - loss: 0.0055\n",
      "Epoch 28/100\n",
      "4s - loss: 0.0055\n",
      "Epoch 29/100\n",
      "4s - loss: 0.0055\n",
      "Epoch 30/100\n",
      "4s - loss: 0.0055\n",
      "Epoch 31/100\n",
      "4s - loss: 0.0055\n",
      "Epoch 32/100\n",
      "4s - loss: 0.0056\n",
      "Epoch 33/100\n",
      "4s - loss: 0.0055\n",
      "Epoch 34/100\n",
      "5s - loss: 0.0055\n",
      "Epoch 35/100\n",
      "5s - loss: 0.0055\n",
      "Epoch 36/100\n",
      "4s - loss: 0.0056\n",
      "Epoch 37/100\n",
      "4s - loss: 0.0055\n",
      "Epoch 38/100\n",
      "4s - loss: 0.0055\n",
      "Epoch 39/100\n",
      "4s - loss: 0.0056\n",
      "Epoch 40/100\n",
      "4s - loss: 0.0056\n",
      "Epoch 41/100\n",
      "4s - loss: 0.0055\n",
      "Epoch 42/100\n",
      "4s - loss: 0.0055\n",
      "Epoch 43/100\n",
      "4s - loss: 0.0055\n",
      "Epoch 44/100\n",
      "4s - loss: 0.0055\n",
      "Epoch 45/100\n",
      "4s - loss: 0.0055\n",
      "Epoch 46/100\n",
      "4s - loss: 0.0055\n",
      "Epoch 47/100\n",
      "5s - loss: 0.0056\n",
      "Epoch 48/100\n",
      "4s - loss: 0.0055\n",
      "Epoch 49/100\n",
      "4s - loss: 0.0055\n",
      "Epoch 50/100\n",
      "4s - loss: 0.0055\n",
      "Epoch 51/100\n",
      "4s - loss: 0.0055\n",
      "Epoch 52/100\n",
      "4s - loss: 0.0055\n",
      "Epoch 53/100\n",
      "4s - loss: 0.0056\n",
      "Epoch 54/100\n",
      "5s - loss: 0.0056\n",
      "Epoch 55/100\n",
      "5s - loss: 0.0055\n",
      "Epoch 56/100\n",
      "5s - loss: 0.0055\n",
      "Epoch 57/100\n",
      "5s - loss: 0.0055\n",
      "Epoch 58/100\n",
      "4s - loss: 0.0055\n",
      "Epoch 59/100\n",
      "4s - loss: 0.0056\n",
      "Epoch 60/100\n",
      "4s - loss: 0.0055\n",
      "Epoch 61/100\n",
      "4s - loss: 0.0055\n",
      "Epoch 62/100\n",
      "4s - loss: 0.0055\n",
      "Epoch 63/100\n",
      "4s - loss: 0.0056\n",
      "Epoch 64/100\n",
      "4s - loss: 0.0055\n",
      "Epoch 65/100\n",
      "4s - loss: 0.0056\n",
      "Epoch 66/100\n",
      "4s - loss: 0.0055\n",
      "Epoch 67/100\n",
      "4s - loss: 0.0055\n",
      "Epoch 68/100\n",
      "4s - loss: 0.0055\n",
      "Epoch 69/100\n",
      "5s - loss: 0.0055\n",
      "Epoch 70/100\n",
      "4s - loss: 0.0055\n",
      "Epoch 71/100\n",
      "5s - loss: 0.0056\n",
      "Epoch 72/100\n",
      "5s - loss: 0.0055\n",
      "Epoch 73/100\n",
      "5s - loss: 0.0055\n",
      "Epoch 74/100\n",
      "5s - loss: 0.0055\n",
      "Epoch 75/100\n",
      "4s - loss: 0.0055\n",
      "Epoch 76/100\n",
      "4s - loss: 0.0056\n",
      "Epoch 77/100\n",
      "5s - loss: 0.0055\n",
      "Epoch 78/100\n",
      "5s - loss: 0.0055\n",
      "Epoch 79/100\n",
      "4s - loss: 0.0055\n",
      "Epoch 80/100\n",
      "4s - loss: 0.0055\n",
      "Epoch 81/100\n",
      "4s - loss: 0.0055\n",
      "Epoch 82/100\n",
      "4s - loss: 0.0055\n",
      "Epoch 83/100\n",
      "4s - loss: 0.0056\n",
      "Epoch 84/100\n",
      "4s - loss: 0.0056\n",
      "Epoch 85/100\n",
      "5s - loss: 0.0055\n",
      "Epoch 86/100\n",
      "4s - loss: 0.0055\n",
      "Epoch 87/100\n",
      "4s - loss: 0.0056\n",
      "Epoch 88/100\n",
      "4s - loss: 0.0055\n",
      "Epoch 89/100\n",
      "4s - loss: 0.0055\n",
      "Epoch 90/100\n",
      "4s - loss: 0.0055\n",
      "Epoch 91/100\n",
      "4s - loss: 0.0055\n",
      "Epoch 92/100\n",
      "4s - loss: 0.0055\n",
      "Epoch 93/100\n",
      "4s - loss: 0.0056\n",
      "Epoch 94/100\n",
      "4s - loss: 0.0055\n",
      "Epoch 95/100\n",
      "4s - loss: 0.0055\n",
      "Epoch 96/100\n",
      "4s - loss: 0.0055\n",
      "Epoch 97/100\n",
      "4s - loss: 0.0055\n",
      "Epoch 98/100\n",
      "4s - loss: 0.0055\n",
      "Epoch 99/100\n",
      "4s - loss: 0.0055\n",
      "Epoch 100/100\n",
      "4s - loss: 0.0055\n"
     ]
    },
    {
     "data": {
      "text/plain": [
       "<keras.callbacks.History at 0x111d31908>"
      ]
     },
     "execution_count": 25,
     "metadata": {},
     "output_type": "execute_result"
    }
   ],
   "source": [
    "# create and fit the LSTM network\n",
    "from keras.models import Sequential\n",
    "from keras.layers import Dense\n",
    "from keras.layers import LSTM\n",
    "model = Sequential()\n",
    "model.add(LSTM(4, input_dim=look_back))\n",
    "model.add(Dense(1))\n",
    "model.compile(loss='mean_squared_error', optimizer='adam')\n",
    "model.fit(trainX, trainY, nb_epoch=100, batch_size=1, verbose=2)"
   ]
  },
  {
   "cell_type": "code",
   "execution_count": 26,
   "metadata": {
    "collapsed": false
   },
   "outputs": [
    {
     "name": "stdout",
     "output_type": "stream",
     "text": [
      "Train Score: 0.04 RMSE\n",
      "Test Score: 0.02 RMSE\n"
     ]
    }
   ],
   "source": [
    "import math\n",
    "# make predictions\n",
    "trainPredict = model.predict(trainX)\n",
    "testPredict = model.predict(testX)\n",
    "# invert predictions\n",
    "from sklearn.metrics import mean_squared_error\n",
    "trainPredict = scaler.inverse_transform(trainPredict)\n",
    "trainY = scaler.inverse_transform([trainY])\n",
    "testPredict = scaler.inverse_transform(testPredict)\n",
    "testY = scaler.inverse_transform([testY])\n",
    "# calculate root mean squared error\n",
    "trainScore = math.sqrt(mean_squared_error(trainY[0], trainPredict[:,0]))\n",
    "print('Train Score: %.2f RMSE' % (trainScore))\n",
    "testScore = math.sqrt(mean_squared_error(testY[0], testPredict[:,0]))\n",
    "print('Test Score: %.2f RMSE' % (testScore))"
   ]
  },
  {
   "cell_type": "code",
   "execution_count": 27,
   "metadata": {
    "collapsed": false
   },
   "outputs": [
    {
     "data": {
      "image/png": "[encoded data removed]",
      "text/plain": [
       "<matplotlib.figure.Figure at 0x111fbe278>"
      ]
     },
     "metadata": {},
     "output_type": "display_data"
    }
   ],
   "source": [
    "# shift train predictions for plotting\n",
    "trainPredictPlot = numpy.empty_like(dataset)\n",
    "trainPredictPlot[:, :] = numpy.nan\n",
    "trainPredictPlot[look_back:len(trainPredict)+look_back, :] = trainPredict\n",
    "# shift test predictions for plotting\n",
    "testPredictPlot = numpy.empty_like(dataset)\n",
    "testPredictPlot[:, :] = numpy.nan\n",
    "testPredictPlot[len(trainPredict)+(look_back*2)+1:len(dataset)-1, :] = testPredict\n",
    "# plot baseline and predictions\n",
    "plt.plot(scaler.inverse_transform(dataset))\n",
    "plt.plot(trainPredictPlot)\n",
    "plt.plot(testPredictPlot)\n",
    "plt.show()"
   ]
  },
  {
   "cell_type": "code",
   "execution_count": null,
   "metadata": {
    "collapsed": true
   },
   "outputs": [],
   "source": []
  }
 ],
 "metadata": {
  "kernelspec": {
   "display_name": "tfkernel",
   "language": "python",
   "name": "tfkernel"
  },
  "language_info": {
   "codemirror_mode": {
    "name": "ipython",
    "version": 3
   },
   "file_extension": ".py",
   "mimetype": "text/x-python",
   "name": "python",
   "nbconvert_exporter": "python",
   "pygments_lexer": "ipython3",
   "version": "3.5.3"
  }
 },
 "nbformat": 4,
 "nbformat_minor": 2
}
